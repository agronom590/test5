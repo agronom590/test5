{
 "cells": [
  {
   "cell_type": "code",
   "execution_count": 1,
   "metadata": {},
   "outputs": [],
   "source": [
    "import pandas as pd\n",
    "import numpy as np\n",
    "import os\n",
    "import librosa\n",
    "%matplotlib inline\n",
    "import matplotlib.pyplot as plt\n",
    "import librosa.display\n",
    "import IPython.display as ipd\n",
    "from plotly.offline import download_plotlyjs, init_notebook_mode, plot, iplot\n",
    "import plotly\n",
    "import plotly.graph_objs as go\n",
    "import seaborn as sns\n",
    "from scipy import signal\n",
    "from scipy.io import wavfile\n",
    "import soundfile as sf\n",
    "\n",
    "from numpy.random import seed\n",
    "from numpy.random import randn\n",
    "from scipy.stats import mannwhitneyu\n",
    "seed(1)\n",
    "\n",
    "from sklearn.preprocessing import PolynomialFeatures\n",
    "from sklearn.linear_model import LogisticRegression, LogisticRegressionCV\n",
    "from sklearn.model_selection import cross_val_score, StratifiedKFold\n",
    "from sklearn.model_selection import GridSearchCV\n",
    "from sklearn.preprocessing import StandardScaler \n",
    "from sklearn.model_selection import train_test_split\n",
    "\n",
    "import pickle\n",
    "\n",
    "pd.set_option('display.max_rows', 200)\n",
    "path = 'wav_data'\n",
    "sr = 8000\n",
    "n_fft = 2048\n",
    "n_mels = 128\n",
    "fmax = 4000"
   ]
  },
  {
   "cell_type": "code",
   "execution_count": 2,
   "metadata": {},
   "outputs": [],
   "source": [
    "# создаём список файлов с женскими голосами\n",
    "female = list(pd.read_csv('f.txt', header=None)[0])\n",
    "# создаём список файлов с мужскими голосами\n",
    "male = list(pd.read_csv('m.txt', header=None)[0])"
   ]
  },
  {
   "cell_type": "code",
   "execution_count": 3,
   "metadata": {},
   "outputs": [
    {
     "data": {
      "text/html": [
       "<div>\n",
       "<style scoped>\n",
       "    .dataframe tbody tr th:only-of-type {\n",
       "        vertical-align: middle;\n",
       "    }\n",
       "\n",
       "    .dataframe tbody tr th {\n",
       "        vertical-align: top;\n",
       "    }\n",
       "\n",
       "    .dataframe thead th {\n",
       "        text-align: right;\n",
       "    }\n",
       "</style>\n",
       "<table border=\"1\" class=\"dataframe\">\n",
       "  <thead>\n",
       "    <tr style=\"text-align: right;\">\n",
       "      <th></th>\n",
       "      <th>Record_name</th>\n",
       "      <th>Gender</th>\n",
       "    </tr>\n",
       "  </thead>\n",
       "  <tbody>\n",
       "    <tr>\n",
       "      <td>0</td>\n",
       "      <td>A30000A1.wav</td>\n",
       "      <td>f</td>\n",
       "    </tr>\n",
       "    <tr>\n",
       "      <td>1</td>\n",
       "      <td>A30000A1.wav2</td>\n",
       "      <td>f</td>\n",
       "    </tr>\n",
       "    <tr>\n",
       "      <td>2</td>\n",
       "      <td>A30000A2.wav</td>\n",
       "      <td>f</td>\n",
       "    </tr>\n",
       "    <tr>\n",
       "      <td>3</td>\n",
       "      <td>A30000A3.wav</td>\n",
       "      <td>f</td>\n",
       "    </tr>\n",
       "    <tr>\n",
       "      <td>4</td>\n",
       "      <td>A30000A4.wav</td>\n",
       "      <td>f</td>\n",
       "    </tr>\n",
       "    <tr>\n",
       "      <td>...</td>\n",
       "      <td>...</td>\n",
       "      <td>...</td>\n",
       "    </tr>\n",
       "    <tr>\n",
       "      <td>200</td>\n",
       "      <td>A30003X2.wav</td>\n",
       "      <td>m</td>\n",
       "    </tr>\n",
       "    <tr>\n",
       "      <td>201</td>\n",
       "      <td>A30003X3.wav</td>\n",
       "      <td>m</td>\n",
       "    </tr>\n",
       "    <tr>\n",
       "      <td>202</td>\n",
       "      <td>A30003X4.wav</td>\n",
       "      <td>m</td>\n",
       "    </tr>\n",
       "    <tr>\n",
       "      <td>203</td>\n",
       "      <td>A30003X5.wav</td>\n",
       "      <td>m</td>\n",
       "    </tr>\n",
       "    <tr>\n",
       "      <td>204</td>\n",
       "      <td>A30003X6.wav</td>\n",
       "      <td>m</td>\n",
       "    </tr>\n",
       "  </tbody>\n",
       "</table>\n",
       "<p>205 rows × 2 columns</p>\n",
       "</div>"
      ],
      "text/plain": [
       "       Record_name Gender\n",
       "0     A30000A1.wav      f\n",
       "1    A30000A1.wav2      f\n",
       "2     A30000A2.wav      f\n",
       "3     A30000A3.wav      f\n",
       "4     A30000A4.wav      f\n",
       "..             ...    ...\n",
       "200   A30003X2.wav      m\n",
       "201   A30003X3.wav      m\n",
       "202   A30003X4.wav      m\n",
       "203   A30003X5.wav      m\n",
       "204   A30003X6.wav      m\n",
       "\n",
       "[205 rows x 2 columns]"
      ]
     },
     "execution_count": 3,
     "metadata": {},
     "output_type": "execute_result"
    }
   ],
   "source": [
    "# создаём датафрейм, записываем в него имя файла и пол\n",
    "df = pd.concat([pd.DataFrame([[x,'f'] for x in female], columns=['Record_name','Gender']),\n",
    "                             pd.DataFrame([[x,'m'] for x in male], columns=['Record_name','Gender'])], ignore_index=True)\n",
    "df"
   ]
  },
  {
   "cell_type": "code",
   "execution_count": 4,
   "metadata": {},
   "outputs": [],
   "source": [
    "# создаём столбцы под обогащение данных\n",
    "df['Spectral_centroid'] = np.nan\n",
    "df['Rolloff'] = np.nan\n",
    "df['Bandwidth'] = np.nan\n",
    "#df['Zero_crossing'] = np.nan\n",
    "df['Max_mean_freq_1'] = np.nan\n",
    "df['Max_mean_freq_2'] = np.nan\n",
    "df['Max_mean_freq_3'] = np.nan\n",
    "df['Max_mean_freq_all_1'] = np.nan\n",
    "df['Max_mean_freq_all_2'] = np.nan\n",
    "df['Max_mean_freq_all_3'] = np.nan\n",
    "df['Freq_min_all'] = np.nan\n",
    "df['Freq_min'] = np.nan"
   ]
  },
  {
   "cell_type": "code",
   "execution_count": 5,
   "metadata": {},
   "outputs": [],
   "source": [
    "# определим функцию, вырезающую фрагмент с голосом (начало и конец определяются условием амплитуды выше средней по файлу)\n",
    "def get_position (x, sr, coeff=5):\n",
    "    z = np.array([np.abs(i) for i in x])\n",
    "    k = 0\n",
    "    l = len(z) - 1\n",
    "    while z[k] < coeff * z.mean():\n",
    "        k += 1\n",
    "    while (z[l] < 7 * coeff * z.mean()) and (l > k + 1000):\n",
    "        l -= 1\n",
    "    bottom = round(k/sr,2)\n",
    "    top = round(l/sr,2)\n",
    "    return bottom, top\n",
    "\n",
    "def get_position_alt (x, sr, coeff=5, dur = 0.5):\n",
    "    z = np.array([np.abs(i) for i in x])\n",
    "    k = 0\n",
    "    while z[k] < coeff * z.mean():\n",
    "        k += 1\n",
    "    bottom = round(k/sr,2)\n",
    "    top = bottom + dur\n",
    "    return bottom, top"
   ]
  },
  {
   "cell_type": "code",
   "execution_count": 6,
   "metadata": {},
   "outputs": [],
   "source": [
    "# создаём список с массивами преобразованных звуковых фрагментов\n",
    "# loaded_data = []\n",
    "# создаём список со спектрограммами\n",
    "# spectrum = []\n",
    "for i in range(len(df)):\n",
    "#    print(i)\n",
    "    # выкачиваем и преобразуем звуковые фрагменты\n",
    "    x, sr_out = librosa.load(path+'\\\\'+str(df.loc[i,'Record_name']), sr=sr, mono=True)\n",
    "    \n",
    "    S, phase = librosa.magphase(librosa.feature.melspectrogram(y=x, sr=sr, n_mels=n_mels, fmax=fmax))\n",
    "    # средний спектр по записи\n",
    "    D = S.mean(axis=1)\n",
    "    D[0] = 0\n",
    "#    plt.plot([x*8000/128 for x in range(len(D))], D)\n",
    "    d = list(D)\n",
    "    \n",
    "    # добавляем частоту с максимальным средним в спектре 1\n",
    "    df.loc[i,'Max_mean_freq_all_1'] = d.index(D.max()) * sr / n_mels\n",
    "    \n",
    "    D[d.index(D.max())] = 0\n",
    "    D[d.index(D.max())-1] = 0\n",
    "    if d.index(D.max()) < n_mels:\n",
    "        D[d.index(D.max())+1] = 0\n",
    "    d = list(D)\n",
    "    # добавляем частоту с максимальным средним в спектре 2\n",
    "    df.loc[i,'Max_mean_freq_all_2'] = d.index(D.max()) * sr / n_mels\n",
    "    \n",
    "    D[d.index(D.max())] = 0\n",
    "    D[d.index(D.max())-1] = 0\n",
    "    if d.index(D.max()) < n_mels:\n",
    "        D[d.index(D.max())+1] = 0\n",
    "    d = list(D)\n",
    "    # добавляем частоту с максимальным средним в спектре 3\n",
    "    df.loc[i,'Max_mean_freq_all_3'] = d.index(D.max()) * sr / n_mels\n",
    "    # средний спектр по записи\n",
    "    D = S.mean(axis=1)\n",
    "    D[0] = 0\n",
    "    d = list(D)\n",
    "    ind = 0\n",
    "    while D[ind] < D.mean():\n",
    "        ind += 1\n",
    "    # добавдяем минимальную частоту, где проявляется значение выше среднего\n",
    "    df.loc[i,'Freq_min_all'] = ind * sr / n_mels\n",
    "    \n",
    "    while D[ind] < D.mean() * 1.5:\n",
    "        ind += 1\n",
    "    # добавдяем минимальную частоту, где проявляется значение выше 1.5 среднего\n",
    "    df.loc[i,'Freq_min_all_1'] = ind * sr / n_mels\n",
    "    \n",
    "    while D[ind] < D.mean() * 2:\n",
    "        ind += 1\n",
    "    # добавдяем минимальную частоту, где проявляется значение выше 2 средних\n",
    "    df.loc[i,'Freq_min_all_2'] = ind * sr / n_mels\n",
    "    \n",
    "    ind = len(D) - 1\n",
    "    \n",
    "    while D[ind] < D.mean():\n",
    "        ind -= 1\n",
    "    # добавдяем максимальную частоту, где проявляется значение выше среднего\n",
    "    df.loc[i,'Freq_max_all'] = ind * sr / n_mels\n",
    "    \n",
    "    while D[ind] < D.mean() * 1.5:\n",
    "        ind -= 1\n",
    "    # добавдяем максимальную частоту, где проявляется значение выше 1.5 среднего\n",
    "    df.loc[i,'Freq_max_all_1'] = ind * sr / n_mels\n",
    "    \n",
    "    while D[ind] < D.mean() * 2:\n",
    "        ind -= 1\n",
    "    # добавдяем максимальную частоту, где проявляется значение выше 2 средних\n",
    "    df.loc[i,'Freq_max_all_2'] = ind * sr / n_mels\n",
    "    \n",
    "    # делаем тоже самое для отрезка с голосом\n",
    "    bottom, top = get_position(x, sr, coeff=5)\n",
    "#    bottom, top = get_position_alt(x, sr, coeff=5, dur=0.25)\n",
    "    x, sr_out = librosa.load(path+'\\\\'+str(df.loc[i,'Record_name']), sr=sr, mono=True,\n",
    "                        offset=bottom, duration=top-bottom)\n",
    "#    loaded_data.append(x)\n",
    "    # получаем спектрограммы звуковых фрагментов и усредняем их по фреймам\n",
    "#    D = np.abs(librosa.stft(x, n_fft=n_fft))\n",
    "    # усредняем\n",
    "#    D = D.mean(axis=1)\n",
    "    # нормируем\n",
    "#    s = D.sum()\n",
    "#    D = D / s\n",
    "#    spectrum.append(D)\n",
    "    S, phase = librosa.magphase(librosa.feature.melspectrogram(y=x, sr=sr, n_mels=n_mels, fmax=fmax))\n",
    "    D = S.mean(axis=1)\n",
    "    D[0] = 0\n",
    "#    plt.plot([x*8000/128 for x in range(len(D))], D)\n",
    "    d = list(D)\n",
    "    \n",
    "    # добавляем частоту с максимальным средним в спектре 1\n",
    "    df.loc[i,'Max_mean_freq_1'] = d.index(D.max()) * sr / n_mels\n",
    "    \n",
    "    D[d.index(D.max())] = 0\n",
    "    D[d.index(D.max())-1] = 0\n",
    "    if d.index(D.max()) < n_mels:\n",
    "        D[d.index(D.max())+1] = 0\n",
    "    d = list(D)\n",
    "    # добавляем частоту с максимальным средним в спектре 2\n",
    "    df.loc[i,'Max_mean_freq_2'] = d.index(D.max()) * sr / n_mels\n",
    "    \n",
    "    D[d.index(D.max())] = 0\n",
    "    D[d.index(D.max())-1] = 0\n",
    "    if d.index(D.max()) < n_mels:\n",
    "        D[d.index(D.max())+1] = 0\n",
    "    d = list(D)\n",
    "    # добавляем частоту с максимальным средним в спектре 3\n",
    "    df.loc[i,'Max_mean_freq_3'] = d.index(D.max()) * sr / n_mels\n",
    "    \n",
    "    D = S.mean(axis=1)\n",
    "    D[0] = 0\n",
    "    d = list(D)\n",
    "    ind = 0\n",
    "    while D[ind] < D.mean():\n",
    "        ind += 1\n",
    "    # добавдяем минимальную частоту, где проявляется значение выше среднего\n",
    "    df.loc[i,'Freq_min'] = ind * sr / n_mels\n",
    "    \n",
    "    while D[ind] < D.mean() * 1.5:\n",
    "        ind += 1\n",
    "    # добавдяем минимальную частоту, где проявляется значение выше 1.5 среднего\n",
    "    df.loc[i,'Freq_min_1'] = ind * sr / n_mels\n",
    "    \n",
    "    while D[ind] < D.mean() * 2:\n",
    "        ind += 1\n",
    "    # добавдяем минимальную частоту, где проявляется значение выше 2 средних\n",
    "    df.loc[i,'Freq_min_2'] = ind * sr / n_mels\n",
    "    \n",
    "    \n",
    "    ind = len(D) - 1\n",
    "    \n",
    "    while D[ind] < D.mean():\n",
    "        ind -= 1\n",
    "    # добавдяем максимальную частоту, где проявляется значение выше среднего\n",
    "    df.loc[i,'Freq_max'] = ind * sr / n_mels\n",
    "    \n",
    "       \n",
    "    # добавляем усреднённый спектральный центроид\n",
    "    df.loc[i,'Spectral_centroid'] = librosa.feature.spectral_centroid(S=S)[0].mean()\n",
    "    # добавляем усреднённую спектральную ширину\n",
    "    df.loc[i,'Bandwidth'] = librosa.feature.spectral_bandwidth(S=S)[0].mean()\n",
    "    # спектральный спад\n",
    "    df.loc[i,'Rolloff'] = librosa.feature.spectral_rolloff(S=S, sr=sr)[0].mean()\n",
    "    # Скорость пересечения нуля\n",
    "#    df.loc[i,'Zero_crossing'] = librosa.feature.zero_crossing_rate(x)[0].mean()"
   ]
  },
  {
   "cell_type": "code",
   "execution_count": 7,
   "metadata": {},
   "outputs": [
    {
     "data": {
      "text/plain": [
       "['Record_name',\n",
       " 'Gender',\n",
       " 'Spectral_centroid',\n",
       " 'Rolloff',\n",
       " 'Bandwidth',\n",
       " 'Max_mean_freq_1',\n",
       " 'Max_mean_freq_2',\n",
       " 'Max_mean_freq_3',\n",
       " 'Max_mean_freq_all_1',\n",
       " 'Max_mean_freq_all_2',\n",
       " 'Max_mean_freq_all_3',\n",
       " 'Freq_min_all',\n",
       " 'Freq_min',\n",
       " 'Freq_min_all_1',\n",
       " 'Freq_min_all_2',\n",
       " 'Freq_max_all',\n",
       " 'Freq_max_all_1',\n",
       " 'Freq_max_all_2',\n",
       " 'Freq_min_1',\n",
       " 'Freq_min_2',\n",
       " 'Freq_max']"
      ]
     },
     "execution_count": 7,
     "metadata": {},
     "output_type": "execute_result"
    }
   ],
   "source": [
    "list(df)"
   ]
  },
  {
   "cell_type": "code",
   "execution_count": 8,
   "metadata": {},
   "outputs": [
    {
     "name": "stderr",
     "output_type": "stream",
     "text": [
      "D:\\Anaconda3\\lib\\site-packages\\seaborn\\axisgrid.py:230: UserWarning:\n",
      "\n",
      "The `size` paramter has been renamed to `height`; please update your code.\n",
      "\n"
     ]
    },
    {
     "data": {
      "text/plain": [
       "<seaborn.axisgrid.FacetGrid at 0xf0a0d88>"
      ]
     },
     "execution_count": 8,
     "metadata": {},
     "output_type": "execute_result"
    },
    {
     "data": {
      "image/png": "[encoded data removed]",
      "text/plain": [
       "<Figure size 1125.62x1080 with 1 Axes>"
      ]
     },
     "metadata": {
      "needs_background": "light"
     },
     "output_type": "display_data"
    }
   ],
   "source": [
    "# Смотрим, KDE каких параметров отличается для женской и мужской выборки\n",
    "sns.FacetGrid(df,hue='Gender',size=15).map(sns.kdeplot, 'Freq_max').add_legend()"
   ]
  },
  {
   "cell_type": "code",
   "execution_count": 9,
   "metadata": {},
   "outputs": [
    {
     "data": {
      "text/plain": [
       "<matplotlib.axes._subplots.AxesSubplot at 0xf3ec848>"
      ]
     },
     "execution_count": 9,
     "metadata": {},
     "output_type": "execute_result"
    },
    {
     "data": {
      "image/png": "[encoded data removed]",
      "text/plain": [
       "<Figure size 432x288 with 1 Axes>"
      ]
     },
     "metadata": {
      "needs_background": "light"
     },
     "output_type": "display_data"
    }
   ],
   "source": [
    "# визуализация спектра звуковых отрезков\n",
    "x, sr_out = librosa.load(path+'\\\\'+str(df.loc[157,'Record_name']), sr=sr, mono=True)\n",
    "bottom, top = get_position(x, sr, coeff=5)\n",
    "x, sr_out = librosa.load(path+'\\\\'+str(df.loc[i,'Record_name']), sr=sr, mono=True,\n",
    "                        offset=bottom, duration=top-bottom)\n",
    "S, phase = librosa.magphase(librosa.feature.melspectrogram(y=x, sr=sr, n_mels=n_mels, fmax=fmax))\n",
    "librosa.display.specshow(librosa.amplitude_to_db(S, ref=np.max),\n",
    "                         y_axis='log', x_axis='time')"
   ]
  },
  {
   "cell_type": "code",
   "execution_count": 10,
   "metadata": {},
   "outputs": [
    {
     "data": {
      "text/plain": [
       "[<matplotlib.lines.Line2D at 0xf48fd88>]"
      ]
     },
     "execution_count": 10,
     "metadata": {},
     "output_type": "execute_result"
    },
    {
     "data": {
      "image/png": "[encoded data removed]",
      "text/plain": [
       "<Figure size 432x288 with 1 Axes>"
      ]
     },
     "metadata": {
      "needs_background": "light"
     },
     "output_type": "display_data"
    }
   ],
   "source": [
    "# спектральный центроид\n",
    "plt.semilogy(librosa.feature.spectral_centroid(S=S)[0])"
   ]
  },
  {
   "cell_type": "code",
   "execution_count": 11,
   "metadata": {},
   "outputs": [
    {
     "data": {
      "text/plain": [
       "<matplotlib.collections.PolyCollection at 0x12b2fac8>"
      ]
     },
     "execution_count": 11,
     "metadata": {},
     "output_type": "execute_result"
    },
    {
     "data": {
      "image/png": "[encoded data removed]",
      "text/plain": [
       "<Figure size 432x288 with 1 Axes>"
      ]
     },
     "metadata": {
      "needs_background": "light"
     },
     "output_type": "display_data"
    }
   ],
   "source": [
    "# графическая амплитудная визуализация запсиси\n",
    "librosa.display.waveplot(x, sr=sr)"
   ]
  },
  {
   "cell_type": "code",
   "execution_count": 12,
   "metadata": {},
   "outputs": [
    {
     "data": {
      "text/plain": [
       "[<matplotlib.lines.Line2D at 0xf92cf08>]"
      ]
     },
     "execution_count": 12,
     "metadata": {},
     "output_type": "execute_result"
    },
    {
     "data": {
      "image/png": "[encoded data removed]",
      "text/plain": [
       "<Figure size 432x288 with 1 Axes>"
      ]
     },
     "metadata": {
      "needs_background": "light"
     },
     "output_type": "display_data"
    }
   ],
   "source": [
    "# усреднённая АЧХ\n",
    "D = S.mean(axis=1)\n",
    "D[0] = 0\n",
    "plt.plot([x*8000/128 for x in range(len(D))], D)"
   ]
  },
  {
   "cell_type": "code",
   "execution_count": 13,
   "metadata": {},
   "outputs": [
    {
     "data": {
      "text/plain": [
       "1437.5"
      ]
     },
     "execution_count": 13,
     "metadata": {},
     "output_type": "execute_result"
    }
   ],
   "source": [
    "d = list(D)\n",
    "d.index(D.max()) * 8000 / 128"
   ]
  },
  {
   "cell_type": "code",
   "execution_count": 14,
   "metadata": {},
   "outputs": [],
   "source": [
    "# выкидываем неоправдавшие себя свойства\n",
    "X, y = df[:].drop(['Gender', 'Record_name', 'Max_mean_freq_2', 'Max_mean_freq_3', 'Max_mean_freq_all_2',\n",
    "               'Max_mean_freq_all_3','Freq_max_all', 'Freq_max_all_1', ],1), df['Gender']"
   ]
  },
  {
   "cell_type": "code",
   "execution_count": 15,
   "metadata": {},
   "outputs": [
    {
     "data": {
      "text/plain": [
       "0      f\n",
       "1      f\n",
       "2      f\n",
       "3      f\n",
       "4      f\n",
       "      ..\n",
       "200    m\n",
       "201    m\n",
       "202    m\n",
       "203    m\n",
       "204    m\n",
       "Name: Gender, Length: 205, dtype: object"
      ]
     },
     "execution_count": 15,
     "metadata": {},
     "output_type": "execute_result"
    }
   ],
   "source": [
    "y"
   ]
  },
  {
   "cell_type": "code",
   "execution_count": 16,
   "metadata": {},
   "outputs": [],
   "source": [
    "# нормализуем\n",
    "scale_features_std = StandardScaler() \n",
    "X = scale_features_std.fit_transform(X) \n",
    "\n",
    "# засовываем параметры нормализации в пикл\n",
    "B  = open('scaler.pkl', 'wb')\n",
    "pickle.dump((scale_features_std.scale_, scale_features_std.mean_, scale_features_std.n_samples_seen_,\n",
    "            scale_features_std.var_), B)\n",
    "B.close()"
   ]
  },
  {
   "cell_type": "code",
   "execution_count": 17,
   "metadata": {},
   "outputs": [],
   "source": [
    "# разбиваем выборку на тестовую и обучающую\n",
    "X_train, X_test, y_train, y_test = train_test_split(X, y, test_size=0.2, random_state = 0) "
   ]
  },
  {
   "cell_type": "code",
   "execution_count": 18,
   "metadata": {},
   "outputs": [
    {
     "name": "stderr",
     "output_type": "stream",
     "text": [
      "D:\\Anaconda3\\lib\\site-packages\\sklearn\\linear_model\\logistic.py:432: FutureWarning:\n",
      "\n",
      "Default solver will be changed to 'lbfgs' in 0.22. Specify a solver to silence this warning.\n",
      "\n"
     ]
    }
   ],
   "source": [
    "clf = LogisticRegression(random_state=0).fit(X_train, y_train)"
   ]
  },
  {
   "cell_type": "code",
   "execution_count": 19,
   "metadata": {},
   "outputs": [
    {
     "data": {
      "text/plain": [
       "LogisticRegression(C=1.0, class_weight=None, dual=False, fit_intercept=True,\n",
       "                   intercept_scaling=1, l1_ratio=None, max_iter=100,\n",
       "                   multi_class='warn', n_jobs=None, penalty='l2',\n",
       "                   random_state=0, solver='warn', tol=0.0001, verbose=0,\n",
       "                   warm_start=False)"
      ]
     },
     "execution_count": 19,
     "metadata": {},
     "output_type": "execute_result"
    }
   ],
   "source": [
    "clf"
   ]
  },
  {
   "cell_type": "code",
   "execution_count": 20,
   "metadata": {},
   "outputs": [
    {
     "data": {
      "text/plain": [
       "0.9024390243902439"
      ]
     },
     "execution_count": 20,
     "metadata": {},
     "output_type": "execute_result"
    }
   ],
   "source": [
    "# процент правильных распознаваний на тестовой выборке\n",
    "clf.score(X_test, y_test)"
   ]
  },
  {
   "cell_type": "code",
   "execution_count": 21,
   "metadata": {},
   "outputs": [
    {
     "data": {
      "text/plain": [
       "array([-1.30707148, -0.31197054,  2.08557339, -0.30484503, -0.93272638,\n",
       "        0.85076634,  0.10371833,  0.83417056,  2.23512895,  0.05498558,\n",
       "        0.19435671,  0.55515185,  0.11795745])"
      ]
     },
     "execution_count": 21,
     "metadata": {},
     "output_type": "execute_result"
    }
   ],
   "source": [
    "# коэффициенты регрессии\n",
    "clf.coef_[0]"
   ]
  },
  {
   "cell_type": "code",
   "execution_count": 22,
   "metadata": {},
   "outputs": [
    {
     "data": {
      "text/plain": [
       "array(['f', 'm', 'f', 'f', 'm', 'm', 'f', 'm', 'm', 'f', 'f', 'm', 'f',\n",
       "       'f', 'f', 'm', 'm', 'f', 'f', 'm', 'm', 'f', 'f', 'm', 'm', 'm',\n",
       "       'm', 'm', 'm', 'f', 'm', 'm', 'f', 'm', 'f', 'f', 'm', 'm', 'f',\n",
       "       'f', 'f'], dtype=object)"
      ]
     },
     "execution_count": 22,
     "metadata": {},
     "output_type": "execute_result"
    }
   ],
   "source": [
    "clf.predict(X_test)"
   ]
  },
  {
   "cell_type": "code",
   "execution_count": 23,
   "metadata": {
    "scrolled": false
   },
   "outputs": [
    {
     "data": {
      "text/plain": [
       "array([[9.67666777e-01, 3.23332225e-02],\n",
       "       [1.14894227e-03, 9.98851058e-01],\n",
       "       [6.69933114e-01, 3.30066886e-01],\n",
       "       [8.09335623e-01, 1.90664377e-01],\n",
       "       [9.31475672e-03, 9.90685243e-01],\n",
       "       [1.14579218e-02, 9.88542078e-01],\n",
       "       [9.95172271e-01, 4.82772885e-03],\n",
       "       [1.13679652e-02, 9.88632035e-01],\n",
       "       [2.80675001e-01, 7.19324999e-01],\n",
       "       [9.66576246e-01, 3.34237539e-02],\n",
       "       [9.85558343e-01, 1.44416571e-02],\n",
       "       [2.54552790e-01, 7.45447210e-01],\n",
       "       [9.78239029e-01, 2.17609711e-02],\n",
       "       [9.17624459e-01, 8.23755414e-02],\n",
       "       [5.04273646e-01, 4.95726354e-01],\n",
       "       [8.05664761e-04, 9.99194335e-01],\n",
       "       [1.97096094e-01, 8.02903906e-01],\n",
       "       [8.82545811e-01, 1.17454189e-01],\n",
       "       [7.91779442e-01, 2.08220558e-01],\n",
       "       [2.24100144e-01, 7.75899856e-01],\n",
       "       [7.05989144e-02, 9.29401086e-01],\n",
       "       [5.84303049e-01, 4.15696951e-01],\n",
       "       [6.98722186e-01, 3.01277814e-01],\n",
       "       [1.42730920e-02, 9.85726908e-01],\n",
       "       [1.12950405e-02, 9.88704959e-01],\n",
       "       [1.65375722e-01, 8.34624278e-01],\n",
       "       [2.25179114e-02, 9.77482089e-01],\n",
       "       [2.68610709e-01, 7.31389291e-01],\n",
       "       [8.68357893e-03, 9.91316421e-01],\n",
       "       [5.96968973e-01, 4.03031027e-01],\n",
       "       [1.11190416e-04, 9.99888810e-01],\n",
       "       [2.83550979e-07, 9.99999716e-01],\n",
       "       [9.94121597e-01, 5.87840281e-03],\n",
       "       [2.00755669e-03, 9.97992443e-01],\n",
       "       [8.84395900e-01, 1.15604100e-01],\n",
       "       [9.98986868e-01, 1.01313168e-03],\n",
       "       [5.57032233e-03, 9.94429678e-01],\n",
       "       [4.81365978e-02, 9.51863402e-01],\n",
       "       [8.10655002e-01, 1.89344998e-01],\n",
       "       [9.08689231e-01, 9.13107688e-02],\n",
       "       [8.39338463e-01, 1.60661537e-01]])"
      ]
     },
     "execution_count": 23,
     "metadata": {},
     "output_type": "execute_result"
    }
   ],
   "source": [
    "clf.predict_proba(X_test)"
   ]
  },
  {
   "cell_type": "code",
   "execution_count": 24,
   "metadata": {},
   "outputs": [
    {
     "name": "stderr",
     "output_type": "stream",
     "text": [
      "D:\\Anaconda3\\lib\\site-packages\\sklearn\\linear_model\\logistic.py:432: FutureWarning:\n",
      "\n",
      "Default solver will be changed to 'lbfgs' in 0.22. Specify a solver to silence this warning.\n",
      "\n"
     ]
    },
    {
     "data": {
      "text/plain": [
       "array([-1.37118535, -0.43201168,  2.36734354, -0.27724158, -0.95612435,\n",
       "        0.93770992,  0.126717  ,  1.09394774,  1.53532909, -0.04485818,\n",
       "        0.31961376,  0.49842645,  0.18105384])"
      ]
     },
     "execution_count": 24,
     "metadata": {},
     "output_type": "execute_result"
    }
   ],
   "source": [
    "# теперь в качестве фита используем весь массив данных, выгрузим его для использования в классиыикаторе (другой файл)\n",
    "clf = LogisticRegression(random_state=0).fit(X[:-1], y[:-1])\n",
    "clf.coef_[0]"
   ]
  },
  {
   "cell_type": "code",
   "execution_count": 25,
   "metadata": {},
   "outputs": [
    {
     "data": {
      "text/plain": [
       "array(['m'], dtype=object)"
      ]
     },
     "execution_count": 25,
     "metadata": {},
     "output_type": "execute_result"
    }
   ],
   "source": [
    "clf.predict([X[-1]])"
   ]
  },
  {
   "cell_type": "code",
   "execution_count": 26,
   "metadata": {},
   "outputs": [
    {
     "name": "stdout",
     "output_type": "stream",
     "text": [
      "belonging to  m   97.8 %\n"
     ]
    }
   ],
   "source": [
    "print('belonging to ', clf.predict([X[-1]])[0], ' ', round(max(clf.predict_proba(X)[-1]) * 100,1), '%')"
   ]
  },
  {
   "cell_type": "code",
   "execution_count": 27,
   "metadata": {},
   "outputs": [],
   "source": [
    "# clf = LogisticRegression(random_state=0).fit(X, y)"
   ]
  },
  {
   "cell_type": "code",
   "execution_count": 28,
   "metadata": {},
   "outputs": [],
   "source": [
    "\n",
    "A  = open('coeffs.pkl', 'wb')\n",
    "pickle.dump((clf.coef_, clf.intercept_, clf.classes_), A)\n",
    "A.close()"
   ]
  }
 ],
 "metadata": {
  "kernelspec": {
   "display_name": "Python 3",
   "language": "python",
   "name": "python3"
  },
  "language_info": {
   "codemirror_mode": {
    "name": "ipython",
    "version": 3
   },
   "file_extension": ".py",
   "mimetype": "text/x-python",
   "name": "python",
   "nbconvert_exporter": "python",
   "pygments_lexer": "ipython3",
   "version": "3.7.4"
  }
 },
 "nbformat": 4,
 "nbformat_minor": 2
}
